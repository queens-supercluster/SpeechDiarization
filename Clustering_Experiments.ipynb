{
  "nbformat": 4,
  "nbformat_minor": 0,
  "metadata": {
    "colab": {
      "provenance": [],
      "authorship_tag": "ABX9TyNRpg8bWWWZbpr2j4Bv2NcF",
      "include_colab_link": true
    },
    "kernelspec": {
      "name": "python3",
      "display_name": "Python 3"
    },
    "language_info": {
      "name": "python"
    }
  },
  "cells": [
    {
      "cell_type": "markdown",
      "metadata": {
        "id": "view-in-github",
        "colab_type": "text"
      },
      "source": [
        "<a href=\"https://colab.research.google.com/github/queens-supercluster/SpeechDiarization/blob/main/Clustering_Experiments.ipynb\" target=\"_parent\"><img src=\"https://colab.research.google.com/assets/colab-badge.svg\" alt=\"Open In Colab\"/></a>"
      ]
    },
    {
      "cell_type": "code",
      "execution_count": null,
      "metadata": {
        "id": "DfADVjd9PBAC"
      },
      "outputs": [],
      "source": [
        "### OPTICS\n",
        "\n",
        "import numpy as np\n",
        "from sklearn.cluster import OPTICS\n",
        "from sklearn.metrics import silhouette_score, davies_bouldin_score\n",
        "\n",
        "# Define the parameter values to test\n",
        "min_samples_values = np.arange(2,10,1)\n",
        "xi_values = np.arange(0.05,0.5,0.05)\n",
        "eps_values = np.arange(0.1,0.9,0.1)\n",
        "\n",
        "best_silhouette_score = -1  # Initialize with a low value\n",
        "best_davies_bouldin_index = float('inf')  # Initialize with a high value\n",
        "best_params = None\n",
        "\n",
        "# Iterate over parameter combinations\n",
        "for min_samples in min_samples_values:\n",
        "    for xi in xi_values:\n",
        "        for eps in eps_values:\n",
        "            # Perform OPTICS clustering\n",
        "            optics = OPTICS(min_samples=min_samples, xi=xi, eps=eps)\n",
        "            optics.fit(embeddings)\n",
        "\n",
        "            # Evaluate clustering performance\n",
        "            labels = optics.labels_\n",
        "            if len(np.unique(labels)) > 1:  # Skip if all data points are assigned to the same cluster\n",
        "                silhouette = silhouette_score(embeddings, labels)\n",
        "                davies_bouldin = davies_bouldin_score(embeddings, labels)\n",
        "\n",
        "                # Update best scores and parameters if improved\n",
        "                if silhouette > best_silhouette_score:\n",
        "                    best_silhouette_score = silhouette\n",
        "                    best_davies_bouldin_index = davies_bouldin\n",
        "                    best_params = {'min_samples': min_samples, 'xi': xi, 'eps': eps}\n",
        "\n",
        "# Print the best parameter combination and evaluation scores\n",
        "print(\"Best Parameters:\")\n",
        "print(best_params)\n",
        "print(\"Silhouette Score:\", best_silhouette_score)\n",
        "print(\"Davies-Bouldin Index:\", best_davies_bouldin_index)"
      ]
    },
    {
      "cell_type": "code",
      "source": [
        "from sklearn.cluster import OPTICS\n",
        "\n",
        "clustering = OPTICS(min_samples=9, eps=0.1, xi = 0.05)  # Adjust the parameters as needed\n",
        "clustering.fit(embeddings)\n",
        "\n",
        "labels = clustering.labels_\n",
        "for i in range(len(segments)):\n",
        "  segments[i][\"speaker\"] = 'SPEAKER ' + str(labels[i] + 1)\n",
        "\n",
        "# Plotting the clusters\n",
        "plt.scatter(embeddings[:, 0], embeddings[:, 1], c=labels, cmap='viridis')\n",
        "plt.xlabel('Feature 1')\n",
        "plt.ylabel('Feature 2')\n",
        "plt.title('OPTICS Clustering')\n",
        "plt.show()\n",
        "\n",
        "# Plotting the reachability plot\n",
        "plt.plot(np.arange(len(clustering.ordering_)), clustering.ordering_)\n",
        "plt.xlabel('Data Points')\n",
        "plt.ylabel('Reachability Distance')\n",
        "plt.title('Reachability Plot')\n",
        "plt.show()"
      ],
      "metadata": {
        "id": "HXUaFsaYPD6-"
      },
      "execution_count": null,
      "outputs": []
    },
    {
      "cell_type": "code",
      "source": [
        "# DBSCAN Hyperparameter tuning\n",
        "\n",
        "silhouettes = {}\n",
        "\n",
        "epss = np.arange(100, 500, 10)\n",
        "minss = np.arange(10,50,10)\n",
        "\n",
        "ss = np.zeros((len(epss), len(minss)))\n",
        "\n",
        "for i, eps in enumerate(epss):\n",
        "    for j, mins in enumerate(minss):\n",
        "        db = DBSCAN(eps=eps, min_samples=mins).fit(embeddings)\n",
        "        if len(set(db.labels_)) == 1:\n",
        "            ss[i, j] = -1\n",
        "        else:\n",
        "            ss[i, j] = silhouette_score(embeddings, db.labels_, metric='euclidean')\n",
        "\n",
        "\n",
        "plt.figure();\n",
        "#plt.plot(list(silhouettes.keys()), list(silhouettes.values()));\n",
        "for i in range(len(minss)):\n",
        "    plt.plot(epss, ss[:, i], label=\"MinPts = {}\".format(minss[i]));\n",
        "#plt.plot(epss, ss[:, 1]);\n",
        "plt.title('DBSCAN, Elbow Method')\n",
        "plt.xlabel(\"Eps\");\n",
        "plt.ylabel(\"Silhouette\");\n",
        "plt.legend();"
      ],
      "metadata": {
        "id": "hnbRARsyPD4x"
      },
      "execution_count": null,
      "outputs": []
    },
    {
      "cell_type": "code",
      "source": [
        "silhouettes = {}\n",
        "\n",
        "epss = np.arange(380, 410, 1)\n",
        "minss = np.arange(60,65,1)\n",
        "\n",
        "ss = np.zeros((len(epss), len(minss)))\n",
        "\n",
        "for i, eps in enumerate(epss):\n",
        "    for j, mins in enumerate(minss):\n",
        "        db = DBSCAN(eps=eps, min_samples=mins).fit(embeddings)\n",
        "        if len(set(db.labels_)) == 1:\n",
        "            ss[i, j] = -1\n",
        "        else:\n",
        "            ss[i, j] = silhouette_score(embeddings, db.labels_, metric='euclidean')\n",
        "\n",
        "\n",
        "plt.figure();\n",
        "#plt.plot(list(silhouettes.keys()), list(silhouettes.values()));\n",
        "for i in range(len(minss)):\n",
        "    plt.plot(epss, ss[:, i], label=\"MinPts = {}\".format(minss[i]));\n",
        "#plt.plot(epss, ss[:, 1]);\n",
        "plt.title('DBSCAN, Elbow Method')\n",
        "plt.xlabel(\"Eps\");\n",
        "plt.ylabel(\"Silhouette\");\n",
        "plt.legend();"
      ],
      "metadata": {
        "id": "QJ-E0UUcPD2E"
      },
      "execution_count": null,
      "outputs": []
    },
    {
      "cell_type": "code",
      "source": [],
      "metadata": {
        "id": "-PiCLw54PDzy"
      },
      "execution_count": null,
      "outputs": []
    },
    {
      "cell_type": "code",
      "source": [],
      "metadata": {
        "id": "X-N4y1cAPDx3"
      },
      "execution_count": null,
      "outputs": []
    },
    {
      "cell_type": "code",
      "source": [],
      "metadata": {
        "id": "4EEV4k8cPDut"
      },
      "execution_count": null,
      "outputs": []
    },
    {
      "cell_type": "code",
      "source": [],
      "metadata": {
        "id": "lH-7puwcPDoX"
      },
      "execution_count": null,
      "outputs": []
    },
    {
      "cell_type": "code",
      "source": [],
      "metadata": {
        "id": "arvzsjcOPDlt"
      },
      "execution_count": null,
      "outputs": []
    }
  ]
}